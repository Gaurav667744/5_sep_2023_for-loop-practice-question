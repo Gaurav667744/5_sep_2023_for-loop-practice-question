{
 "cells": [
  {
   "cell_type": "markdown",
   "id": "e69f8451-ee11-4975-b88a-6cb0769ae53d",
   "metadata": {},
   "source": [
    "###   TOPIC :- For Loop Question :\n",
    "###   Basic Level:"
   ]
  },
  {
   "cell_type": "markdown",
   "id": "16dedb61-20ff-4843-81d1-a4fbcbc8246a",
   "metadata": {},
   "source": [
    "### Ques_1. Write a Python program to print the numbers from 1 to 10 using a `for` loop."
   ]
  },
  {
   "cell_type": "code",
   "execution_count": 5,
   "id": "a7a6c453-acba-4746-bf14-c8b9a3175ab7",
   "metadata": {},
   "outputs": [
    {
     "name": "stdout",
     "output_type": "stream",
     "text": [
      "1\n",
      "2\n",
      "3\n",
      "4\n",
      "5\n",
      "6\n",
      "7\n",
      "8\n",
      "9\n",
      "10\n"
     ]
    }
   ],
   "source": [
    "number = range(1,10+1)\n",
    "for i in number :\n",
    "    print(i)"
   ]
  },
  {
   "cell_type": "markdown",
   "id": "52692ae2-ed75-4c69-a6cb-12e3f3940e53",
   "metadata": {},
   "source": [
    "### Ques_2. Create a program that calculates the sum of all numbers in a list using a `for` loop."
   ]
  },
  {
   "cell_type": "code",
   "execution_count": 17,
   "id": "c949b59f-1699-4b93-aaac-d85547380727",
   "metadata": {},
   "outputs": [
    {
     "name": "stdout",
     "output_type": "stream",
     "text": [
      "total number 45\n"
     ]
    }
   ],
   "source": [
    "list_num = [1,2,3,4,5,6,7,8,9]\n",
    "sum_num = 0\n",
    "for i in list_num:\n",
    "    sum_num = sum_num + i\n",
    "print(\"total number\",sum_num)\n",
    "    \n"
   ]
  },
  {
   "cell_type": "markdown",
   "id": "d51dc26d-d0a2-47f3-8385-3a3d1c9396f7",
   "metadata": {},
   "source": [
    "### Ques_3. Write a program to print the characters of a string in reverse order using a `for` loop."
   ]
  },
  {
   "cell_type": "code",
   "execution_count": 2,
   "id": "a5db5aff-5587-4e14-b7a6-9d3d8b8719c5",
   "metadata": {},
   "outputs": [
    {
     "name": "stdout",
     "output_type": "stream",
     "text": [
      "n\n",
      "o\n",
      "h\n",
      "t\n",
      "y\n",
      "p\n"
     ]
    }
   ],
   "source": [
    "string = \"python\"\n",
    "for i in reversed(string):\n",
    "    print(i)"
   ]
  },
  {
   "cell_type": "markdown",
   "id": "12e87578-e97a-4b13-bd0d-6e782e230782",
   "metadata": {},
   "source": [
    "### Ques_4. Develop a program that finds the factorial of a given number using a `for` loop."
   ]
  },
  {
   "cell_type": "code",
   "execution_count": 17,
   "id": "822ddd2f-4850-46ca-9b8a-b0e15d37517b",
   "metadata": {},
   "outputs": [
    {
     "name": "stdin",
     "output_type": "stream",
     "text": [
      "enter the number 5\n"
     ]
    },
    {
     "name": "stdout",
     "output_type": "stream",
     "text": [
      "factorial number: 120\n"
     ]
    }
   ],
   "source": [
    "number = int(input(\"enter the number\"))\n",
    "fact = 1\n",
    "for i in range(1,number+1) :\n",
    "    fact = fact * i\n",
    "print(\"factorial number:\",fact)"
   ]
  },
  {
   "cell_type": "markdown",
   "id": "9f782e3f-0bfe-436a-964e-16250a1941b5",
   "metadata": {},
   "source": [
    "### Ques_5. Create a program to print the multiplication table of a given number using a `for` loop."
   ]
  },
  {
   "cell_type": "code",
   "execution_count": 3,
   "id": "891bd551-4e1a-4905-8397-7294cb9b8cb0",
   "metadata": {},
   "outputs": [
    {
     "name": "stdin",
     "output_type": "stream",
     "text": [
      "enter the number 4\n"
     ]
    },
    {
     "name": "stdout",
     "output_type": "stream",
     "text": [
      "4 x 1 = 4\n",
      "4 x 2 = 8\n",
      "4 x 3 = 12\n",
      "4 x 4 = 16\n",
      "4 x 5 = 20\n",
      "4 x 6 = 24\n",
      "4 x 7 = 28\n",
      "4 x 8 = 32\n",
      "4 x 9 = 36\n",
      "4 x 10 = 40\n"
     ]
    }
   ],
   "source": [
    "num = int(input(\"enter the number\"))\n",
    "for i in range(1,11):\n",
    "    print(num,\"x\",i,\"=\",num*i)\n"
   ]
  },
  {
   "cell_type": "markdown",
   "id": "26ae11e5-3048-4512-8aa6-fb5085414e38",
   "metadata": {},
   "source": [
    "### Ques_6. Write a program that counts the number of even and odd numbers in a list using a `for` loop."
   ]
  },
  {
   "cell_type": "code",
   "execution_count": 2,
   "id": "d355a6ea-3e87-4cb1-8fdf-0f6686e03859",
   "metadata": {},
   "outputs": [
    {
     "name": "stdout",
     "output_type": "stream",
     "text": [
      "even number [2, 4, 6, 8, 10, 12, 14, 16, 18, 20] the count of even number 10\n",
      "odd number [1, 3, 5, 7, 9, 11, 13, 15, 17, 19] the count of odd number 10\n"
     ]
    }
   ],
   "source": [
    "even = []\n",
    "odd = []\n",
    "number = range(1,20+1)\n",
    "for i in number :\n",
    "    if i % 2 == 0:\n",
    "        even.append(i)\n",
    "    else :\n",
    "        odd.append(i)\n",
    "print(\"even number\",even,\"the count of even number\",len(even))\n",
    "print(\"odd number\",odd,\"the count of odd number\",len(odd))"
   ]
  },
  {
   "cell_type": "markdown",
   "id": "64ff4e68-6099-4606-bcc7-377f8c0b8b91",
   "metadata": {},
   "source": [
    "### Ques_7. Develop a program that prints the squares of numbers from 1 to 5 using a `for` loop."
   ]
  },
  {
   "cell_type": "code",
   "execution_count": 4,
   "id": "5ab73f79-c9d4-491f-81df-ca4a045fca0d",
   "metadata": {},
   "outputs": [
    {
     "name": "stdout",
     "output_type": "stream",
     "text": [
      "The square of 1 is 1\n",
      "The square of 2 is 4\n",
      "The square of 3 is 9\n",
      "The square of 4 is 16\n",
      "The square of 5 is 25\n"
     ]
    }
   ],
   "source": [
    "num = [1,2,3,4,5]\n",
    "for i in num :\n",
    "    square = i ** 2\n",
    "    print(f\"The square of {i} is {square}\")"
   ]
  },
  {
   "cell_type": "markdown",
   "id": "96d17312-46a0-48ee-a397-554442b13d1c",
   "metadata": {},
   "source": [
    "### Ques_8. Create a program to find the length of a string without using the `len()` function."
   ]
  },
  {
   "cell_type": "code",
   "execution_count": 13,
   "id": "3cade495-ee03-410b-a621-37495aedd32d",
   "metadata": {},
   "outputs": [
    {
     "name": "stdout",
     "output_type": "stream",
     "text": [
      "total length: 42\n"
     ]
    }
   ],
   "source": [
    "string = \"the python subject is very famous language\"\n",
    "count = 0\n",
    "for i in string :\n",
    "    count = count + 1\n",
    "print(\"total length:\",count)"
   ]
  },
  {
   "cell_type": "markdown",
   "id": "c6a792da-8fc8-4d44-a23d-d1d12720a35b",
   "metadata": {},
   "source": [
    "### Ques_9. Write a program that calculates the average of a list of numbers using a `for` loop."
   ]
  },
  {
   "cell_type": "code",
   "execution_count": 25,
   "id": "2dacf7d4-dbcb-4487-8a01-676b0eb91e27",
   "metadata": {},
   "outputs": [
    {
     "name": "stdout",
     "output_type": "stream",
     "text": [
      "average number: 35.0\n"
     ]
    }
   ],
   "source": [
    "lists = [10,20,30,40,50,60]\n",
    "total = 0\n",
    "for i in lists :\n",
    "    total = total + i\n",
    "    average = total / len(lists)\n",
    "print(\"average number:\",average)"
   ]
  },
  {
   "cell_type": "markdown",
   "id": "e327f86f-4d17-4413-8b62-f3957c74395d",
   "metadata": {},
   "source": [
    "### Ques_10. Develop a program that prints the first `n` Fibonacci numbers using a `for` loop."
   ]
  },
  {
   "cell_type": "code",
   "execution_count": 42,
   "id": "0cadebcf-6bc6-42f1-acba-0f40cdf9bbd8",
   "metadata": {},
   "outputs": [
    {
     "name": "stdin",
     "output_type": "stream",
     "text": [
      "enter the value 10\n"
     ]
    },
    {
     "name": "stdout",
     "output_type": "stream",
     "text": [
      "0\n",
      "1\n",
      "1\n",
      "2\n",
      "3\n",
      "5\n",
      "8\n",
      "13\n",
      "21\n",
      "34\n"
     ]
    }
   ],
   "source": [
    "num = int(input(\"enter the value\"))\n",
    "a,b = 0,1\n",
    "count = 1\n",
    "for i in range(1, num+1):\n",
    "    print(a)\n",
    "    c = a + b\n",
    "    a = b\n",
    "    b = c\n",
    "    count = count + i"
   ]
  },
  {
   "cell_type": "markdown",
   "id": "0e99bdeb-2ac6-462a-baa5-f157bd99cd27",
   "metadata": {},
   "source": [
    "### Intermediate Level:"
   ]
  },
  {
   "cell_type": "markdown",
   "id": "7165fc97-75c5-4764-8306-ef96840e1200",
   "metadata": {},
   "source": [
    "### Ques_11. Write a program to check if a given list contains any duplicates using a `for` loop."
   ]
  },
  {
   "cell_type": "code",
   "execution_count": 5,
   "id": "8ec80531-1095-46e5-944f-5d2aada66e3d",
   "metadata": {},
   "outputs": [
    {
     "name": "stdout",
     "output_type": "stream",
     "text": [
      "duplicate value: 3\n",
      "duplicate value: 4\n"
     ]
    }
   ],
   "source": [
    "lists =[1,2,3,3,4,4,5]\n",
    "for i in range(1,len(lists)):\n",
    "    for j in range(i+1, len(lists)):\n",
    "        if (lists[i]==lists[j]):\n",
    "            print(\"duplicate value:\",lists[j])"
   ]
  },
  {
   "cell_type": "markdown",
   "id": "7cd673af-1677-42f0-9e43-9db3e0b8a152",
   "metadata": {},
   "source": [
    "### Ques_12. Create a program that prints the prime numbers in a given range using a `for` loop."
   ]
  },
  {
   "cell_type": "code",
   "execution_count": 2,
   "id": "6406dcd4-2c20-4bdb-8fa4-7f86e327c987",
   "metadata": {},
   "outputs": [
    {
     "name": "stdin",
     "output_type": "stream",
     "text": [
      "enter the number 20\n"
     ]
    },
    {
     "name": "stdout",
     "output_type": "stream",
     "text": [
      "2,3,5,7,11,13,17,19,"
     ]
    }
   ],
   "source": [
    "number = int(input(\"enter the number\"))\n",
    "for i in range(2,number):\n",
    "    for j in range(2,i):\n",
    "        if i%j==0 :\n",
    "            break\n",
    "    else:\n",
    "        print(i,end=\",\")\n",
    "            "
   ]
  },
  {
   "cell_type": "markdown",
   "id": "60dd451c-cf0b-495d-808a-f064373b99fd",
   "metadata": {},
   "source": [
    "### Ques_13. Develop a program that counts the number of vowels in a string using a `for` loop."
   ]
  },
  {
   "cell_type": "code",
   "execution_count": 9,
   "id": "75081e20-1276-4dcb-a97b-ccedcf43c7dc",
   "metadata": {},
   "outputs": [
    {
     "name": "stdout",
     "output_type": "stream",
     "text": [
      "total vowel: 16\n"
     ]
    }
   ],
   "source": [
    "string =\"the python language is very important for everyone\"\n",
    "vowels = \"aeiouAEIOU\"\n",
    "count = 0\n",
    "for i in string :\n",
    "    if i in vowels :\n",
    "        count = count + 1\n",
    "print(\"total vowel:\",count)\n",
    "        "
   ]
  },
  {
   "cell_type": "markdown",
   "id": "19512aca-ebf4-4790-b9fa-521bf05ed886",
   "metadata": {},
   "source": [
    "### Ques_14. Write a program to find the maximum element in a 2D list using a nested `for` loop."
   ]
  },
  {
   "cell_type": "code",
   "execution_count": 1,
   "id": "ed2ea8ac-963a-4327-a96b-dacfe77ee1d6",
   "metadata": {},
   "outputs": [
    {
     "name": "stdout",
     "output_type": "stream",
     "text": [
      "maximum number 86\n"
     ]
    }
   ],
   "source": [
    "matrix = [\n",
    "    [45, 23, 39],\n",
    "    [42, 46, 65],\n",
    "    [70, 86, 85]\n",
    "]\n",
    "max_element = matrix[0][0]\n",
    "for row in matrix:\n",
    "    for element in row:\n",
    "        if element > max_element:\n",
    "            max_element=element\n",
    "print(\"maximum number\",max_element)\n",
    "        "
   ]
  },
  {
   "cell_type": "markdown",
   "id": "4d1a92f7-2b21-471e-8c5f-2ca91403ff40",
   "metadata": {},
   "source": [
    "### Ques_15. Create a program that removes all occurrences of a specific element from a list using a `for` loop."
   ]
  },
  {
   "cell_type": "code",
   "execution_count": 2,
   "id": "9d17eb41-7a7f-4b20-b943-7d37c9061e71",
   "metadata": {},
   "outputs": [
    {
     "name": "stdout",
     "output_type": "stream",
     "text": [
      "remove element 5 :- [1, 2, 3, 4]\n"
     ]
    }
   ],
   "source": [
    "lists = [1,2,3,5,4,5,5]\n",
    "remove =5\n",
    "empty_lists = []\n",
    "for i in lists :\n",
    "    if i != remove:\n",
    "        empty_lists.append(i)\n",
    "print(\"remove element 5 :-\",empty_lists)"
   ]
  },
  {
   "cell_type": "markdown",
   "id": "a676486f-9c59-425a-bae9-b637bc595897",
   "metadata": {},
   "source": [
    "### Ques_16. Develop a program that generates a multiplication table for numbers from 1 to 5 using a nested `for` loop."
   ]
  },
  {
   "cell_type": "code",
   "execution_count": 9,
   "id": "dbe56f9e-b2ef-49bf-b679-c17c7914d4e5",
   "metadata": {},
   "outputs": [
    {
     "name": "stdout",
     "output_type": "stream",
     "text": [
      "multiplication table of  1\n",
      "1 x 1 = 1\n",
      "1 x 2 = 2\n",
      "1 x 3 = 3\n",
      "1 x 4 = 4\n",
      "1 x 5 = 5\n",
      "1 x 6 = 6\n",
      "1 x 7 = 7\n",
      "1 x 8 = 8\n",
      "1 x 9 = 9\n",
      "1 x 10 = 10\n",
      "multiplication table of  2\n",
      "2 x 1 = 2\n",
      "2 x 2 = 4\n",
      "2 x 3 = 6\n",
      "2 x 4 = 8\n",
      "2 x 5 = 10\n",
      "2 x 6 = 12\n",
      "2 x 7 = 14\n",
      "2 x 8 = 16\n",
      "2 x 9 = 18\n",
      "2 x 10 = 20\n",
      "multiplication table of  3\n",
      "3 x 1 = 3\n",
      "3 x 2 = 6\n",
      "3 x 3 = 9\n",
      "3 x 4 = 12\n",
      "3 x 5 = 15\n",
      "3 x 6 = 18\n",
      "3 x 7 = 21\n",
      "3 x 8 = 24\n",
      "3 x 9 = 27\n",
      "3 x 10 = 30\n",
      "multiplication table of  4\n",
      "4 x 1 = 4\n",
      "4 x 2 = 8\n",
      "4 x 3 = 12\n",
      "4 x 4 = 16\n",
      "4 x 5 = 20\n",
      "4 x 6 = 24\n",
      "4 x 7 = 28\n",
      "4 x 8 = 32\n",
      "4 x 9 = 36\n",
      "4 x 10 = 40\n",
      "multiplication table of  5\n",
      "5 x 1 = 5\n",
      "5 x 2 = 10\n",
      "5 x 3 = 15\n",
      "5 x 4 = 20\n",
      "5 x 5 = 25\n",
      "5 x 6 = 30\n",
      "5 x 7 = 35\n",
      "5 x 8 = 40\n",
      "5 x 9 = 45\n",
      "5 x 10 = 50\n"
     ]
    }
   ],
   "source": [
    "num = range(1,6)\n",
    "for i in num :\n",
    "    print(\"multiplication table of \",i)\n",
    "    for j in range(1,11):\n",
    "        print(i,\"x\",j,\"=\",i*j)\n",
    "     "
   ]
  },
  {
   "cell_type": "markdown",
   "id": "2db79ca5-31f2-4151-977b-aaa6cc6bd079",
   "metadata": {},
   "source": [
    "### Ques_17. Write a program that converts a list of Fahrenheit temperatures to Celsius using a `for` loop."
   ]
  },
  {
   "cell_type": "code",
   "execution_count": 48,
   "id": "f52aa6f6-7b30-4771-991f-998738183b5e",
   "metadata": {},
   "outputs": [
    {
     "name": "stdout",
     "output_type": "stream",
     "text": [
      "40^f is 4.44^c\n",
      "50^f is 10.00^c\n",
      "60^f is 15.56^c\n",
      "70^f is 21.11^c\n",
      "80^f is 26.67^c\n",
      "90^f is 32.22^c\n"
     ]
    }
   ],
   "source": [
    "fah = [40,50,60,70,80,90]\n",
    "cel = []\n",
    "for i in fah:\n",
    "    temp = (i - 32)*5/9\n",
    "    cel.append(temp)\n",
    "for j in range(len(fah)):\n",
    "    print(f\"{fah[j]}^f is {cel[j]:.2f}^c\")"
   ]
  },
  {
   "cell_type": "markdown",
   "id": "32a0e675-7789-4280-ab41-166a55553689",
   "metadata": {},
   "source": [
    "### Ques_18. Create a program to print the common elements from two lists using a `for` loop."
   ]
  },
  {
   "cell_type": "code",
   "execution_count": 56,
   "id": "ceb3d589-3b01-4a88-b8ae-c1a7f3687a1b",
   "metadata": {},
   "outputs": [
    {
     "name": "stdout",
     "output_type": "stream",
     "text": [
      "common element [4, 5, 6]\n"
     ]
    }
   ],
   "source": [
    "lst_1 = [1,2,3,4,5,6]\n",
    "lst_2 = [5,6,7,8,9,4]\n",
    "common_lst = []\n",
    "for i in lst_1:\n",
    "    for j in lst_2:\n",
    "        if i == j and i not in common_lst:\n",
    "            common_lst.append(i)\n",
    "print(\"common element\",common_lst)"
   ]
  },
  {
   "cell_type": "markdown",
   "id": "9861563d-2d63-4d86-867e-c3a2ba07abda",
   "metadata": {},
   "source": [
    "### Ques_19. Develop a program that prints the pattern of right-angled triangles using a `for` loop. Use ‘*’ to draw the pattern"
   ]
  },
  {
   "cell_type": "code",
   "execution_count": 69,
   "id": "fea9dc38-5b92-4e29-b5df-906cfdf0bf70",
   "metadata": {},
   "outputs": [
    {
     "name": "stdout",
     "output_type": "stream",
     "text": [
      "* \n",
      "* * \n",
      "* * * \n",
      "* * * * \n",
      "* * * * * \n",
      "* * * * * * \n",
      "* * * * * * * \n",
      "* * * * * * * * \n",
      "* * * * * * * * * \n",
      "* * * * * * * * * * \n"
     ]
    }
   ],
   "source": [
    "num = 11\n",
    "for i in range(1, num):\n",
    "    for j in range(i):\n",
    "        print(\"*\", end=\" \")\n",
    "    print()"
   ]
  },
  {
   "cell_type": "markdown",
   "id": "f1cf4713-dba2-4a32-b6b5-fd93b985b8e1",
   "metadata": {},
   "source": [
    "### Ques_20. Write a program to find the greatest common divisor (GCD) of two numbers using a `for` loop"
   ]
  },
  {
   "cell_type": "code",
   "execution_count": 75,
   "id": "58b3b42a-3050-4c6a-8e7e-7423f20f04bf",
   "metadata": {},
   "outputs": [
    {
     "name": "stdin",
     "output_type": "stream",
     "text": [
      "enter the first number 15\n",
      "enter the second value 36\n"
     ]
    },
    {
     "name": "stdout",
     "output_type": "stream",
     "text": [
      "the GCD is: 3\n"
     ]
    }
   ],
   "source": [
    "num1 = int(input(\"enter the first number\"))\n",
    "num2 = int(input(\"enter the second value\"))\n",
    "if num2>num1:\n",
    "    mx = num1\n",
    "else:\n",
    "    mx = num2\n",
    "for i in range(1,mx+1):\n",
    "    if num1%i==0 and num2%i==0:\n",
    "        gcd = i\n",
    "print(\"the GCD is:\",gcd)"
   ]
  },
  {
   "cell_type": "markdown",
   "id": "8666c829-8dbf-479f-9da4-e663e50802ab",
   "metadata": {},
   "source": [
    "### Advanced Level:"
   ]
  },
  {
   "cell_type": "markdown",
   "id": "ce3a548c-c742-4627-9a37-a130adb12354",
   "metadata": {},
   "source": [
    "### Ques_21. Create a program that calculates the sum of the digits of numbers in a list using a list comprehension"
   ]
  },
  {
   "cell_type": "code",
   "execution_count": 37,
   "id": "8f543346-6d25-4f7c-91f8-eacff97595c5",
   "metadata": {},
   "outputs": [
    {
     "name": "stdout",
     "output_type": "stream",
     "text": [
      "the sum of number: 21\n"
     ]
    }
   ],
   "source": [
    "lst = [1,2,3,4,5,6]\n",
    "count = 0\n",
    "result = [i for i in lst ]\n",
    "print(\"the sum of number:\",sum(result))"
   ]
  },
  {
   "cell_type": "markdown",
   "id": "7c83c952-c33c-4405-825f-d123986f6617",
   "metadata": {},
   "source": [
    "### Ques_22. Write a program to find the prime factors of a given number using a `for` loop and list comprehension."
   ]
  },
  {
   "cell_type": "code",
   "execution_count": 41,
   "id": "183bf8db-a8df-4425-af34-b068d7094509",
   "metadata": {},
   "outputs": [
    {
     "name": "stdin",
     "output_type": "stream",
     "text": [
      "enter the number 24\n"
     ]
    },
    {
     "name": "stdout",
     "output_type": "stream",
     "text": [
      "prime factor [2, 3]\n"
     ]
    }
   ],
   "source": [
    "num = int(input(\"enter the number\"))\n",
    "prime_factor = []\n",
    "for i in range(2,num+1):\n",
    "    if num%i==0:\n",
    "        flag = 0\n",
    "        for j in range(2,i):\n",
    "            if i%j==0:\n",
    "                flag=1\n",
    "                break\n",
    "        if flag==0:\n",
    "            prime_factor.append(i)\n",
    "print(\"prime factor\",prime_factor)\n",
    "                \n"
   ]
  },
  {
   "cell_type": "markdown",
   "id": "dfb4cd00-77ed-4498-bb45-e1c646671ef8",
   "metadata": {},
   "source": [
    "### Ques_23. Develop a program that extracts unique elements from a list and stores them in a new list using a list comprehension."
   ]
  },
  {
   "cell_type": "code",
   "execution_count": 6,
   "id": "9087075f-d06e-4c2a-849d-52a50cf89d1c",
   "metadata": {},
   "outputs": [
    {
     "name": "stdout",
     "output_type": "stream",
     "text": [
      "unique element :- [0, 1, 2, 3, 4, 5, 6, 7]\n"
     ]
    }
   ],
   "source": [
    "lst = [1,2,3,4,5,6,7,6,5,4,3,4,5,6,7,0,1,2,2,4]\n",
    "unique_element = list(set(x for x in lst))\n",
    "print(\"unique element :-\",unique_element)"
   ]
  },
  {
   "cell_type": "markdown",
   "id": "53edd36b-7cad-4d97-9d43-53cc3da2c204",
   "metadata": {},
   "source": [
    "### Ques_24. Create a program that generates a list of all palindromic numbers up to a specified limit using a listcomprehension."
   ]
  },
  {
   "cell_type": "code",
   "execution_count": 10,
   "id": "28d92a48-2a45-40fe-a07f-e0f05deb069e",
   "metadata": {},
   "outputs": [
    {
     "name": "stdout",
     "output_type": "stream",
     "text": [
      "[0, 1, 2, 3, 4, 5, 6, 7, 8, 9, 11, 22, 33, 44, 55, 66, 77, 88, 99, 101, 111, 121, 131, 141, 151, 161, 171, 181, 191, 202, 212, 222, 232, 242, 252, 262, 272, 282, 292, 303, 313, 323, 333, 343, 353, 363, 373, 383, 393, 404, 414, 424, 434, 444, 454, 464, 474, 484, 494]\n"
     ]
    }
   ],
   "source": [
    "limit = 500\n",
    "palindromic_num = [num for num in range(limit) if str(num) == str(num)[::-1]]\n",
    "print(palindromic_num)"
   ]
  },
  {
   "cell_type": "markdown",
   "id": "9c641a31-56cf-4c8c-94cc-bcb5a8d84f15",
   "metadata": {},
   "source": [
    "### Ques_25. Write a program to flatten a nested list using list comprehension."
   ]
  },
  {
   "cell_type": "code",
   "execution_count": 2,
   "id": "63e5b7f5-617b-470f-80ec-bd7448e6e2e0",
   "metadata": {},
   "outputs": [
    {
     "name": "stdout",
     "output_type": "stream",
     "text": [
      "flatten list [1, 2, 3, 4, 5, 6, 7, 8, 9]\n"
     ]
    }
   ],
   "source": [
    "nested_list = [[1,2,3],[4,5,6],[7,8,9]]\n",
    "flatten_list = list(x for i in nested_list for x in i)\n",
    "print(\"flatten list\",flatten_list)"
   ]
  },
  {
   "cell_type": "markdown",
   "id": "593c9ef9-7507-492d-9145-ba8d996dd84c",
   "metadata": {},
   "source": [
    "### Ques_26. Develop a program that computes the sum of even and odd numbers in a list separately using list comprehension."
   ]
  },
  {
   "cell_type": "code",
   "execution_count": 13,
   "id": "3ecc0882-6195-4e4d-a349-9ee147440df8",
   "metadata": {},
   "outputs": [
    {
     "name": "stdout",
     "output_type": "stream",
     "text": [
      "even number 110\n",
      "odd number 100\n"
     ]
    }
   ],
   "source": [
    "lists = range(20+1)\n",
    "even_sum = sum(i for i in lists if i % 2 ==0)\n",
    "odd_sum = sum(x for x in lists if x % 2 != 0)\n",
    "print(\"even number\",even_sum)\n",
    "print(\"odd number\",odd_sum)"
   ]
  },
  {
   "cell_type": "markdown",
   "id": "106e749d-291b-4039-9048-9994ced56c5f",
   "metadata": {},
   "source": [
    "### Ques_27. Create a program that generates a list of squares of odd numbers between 1 and 10 using list comprehension."
   ]
  },
  {
   "cell_type": "code",
   "execution_count": 14,
   "id": "4f22bd5b-60a2-4749-b729-594bff917100",
   "metadata": {},
   "outputs": [
    {
     "name": "stdout",
     "output_type": "stream",
     "text": [
      "[1, 9, 25, 49, 81]\n"
     ]
    }
   ],
   "source": [
    "lst = [1,2,3,4,5,6,7,8,9,10]\n",
    "odd_square_num = list(i**2 for i in lst if i%2 != 0)\n",
    "print(odd_square_num)"
   ]
  },
  {
   "cell_type": "markdown",
   "id": "32c8c9fd-13ef-4948-bbe7-6e0130fc5bbb",
   "metadata": {},
   "source": [
    "### Ques_28. Write a program that combines two lists into a dictionary using list comprehension."
   ]
  },
  {
   "cell_type": "code",
   "execution_count": 19,
   "id": "f7e1fee4-5068-4626-8c80-30e2f68bc212",
   "metadata": {},
   "outputs": [
    {
     "name": "stdout",
     "output_type": "stream",
     "text": [
      "Combined Dictionary: {'batch name': 'data science batch', 'teacher name': 'sudhanshu sir', 'timing': 9}\n"
     ]
    }
   ],
   "source": [
    "keys = ['batch name', 'teacher name', 'timing']\n",
    "values = [\"data science batch\", \"sudhanshu sir\", 9]\n",
    "combined_dict = {keys[i]: values[i] for i in range(min(len(keys), len(values)))}\n",
    "print(\"Combined Dictionary:\", combined_dict)"
   ]
  },
  {
   "cell_type": "markdown",
   "id": "f35d3873-32b1-44b1-8757-518249c46fe7",
   "metadata": {},
   "source": [
    "### Ques_29. Develop a program that extracts the vowels from a string and stores them in a list using list comprehension."
   ]
  },
  {
   "cell_type": "code",
   "execution_count": 25,
   "id": "f27fedcd-4f1c-4d43-a3d8-2bff7f896d27",
   "metadata": {},
   "outputs": [
    {
     "name": "stdout",
     "output_type": "stream",
     "text": [
      "vowel element ['e', 'o', 'i', 'a', 'a', 'u', 'a', 'e']\n"
     ]
    }
   ],
   "source": [
    "string = \"the python is a language\"\n",
    "vowel = \"aeiouAEUIO\"\n",
    "store_vowel = list(i for i in string if i in vowel )\n",
    "print(\"vowel element\",store_vowel)"
   ]
  },
  {
   "cell_type": "markdown",
   "id": "3a3b1489-6c99-4c47-8f62-4a4c3565ebad",
   "metadata": {},
   "source": [
    "### Ques_30. Create a program that removes all non-numeric characters from a list of strings using list comprehension"
   ]
  },
  {
   "cell_type": "code",
   "execution_count": 26,
   "id": "09c09297-f83a-4823-8727-18c496a5a74c",
   "metadata": {},
   "outputs": [
    {
     "name": "stdout",
     "output_type": "stream",
     "text": [
      "Numeric Strings: ['123', '456', '789', '012']\n"
     ]
    }
   ],
   "source": [
    "non_numeric = [\"sudh123\",\"kumar456\",\"gaurav789\",\"singh012\"]\n",
    "strings = [''.join(char for char in string if char.isdigit()) for string in non_numeric]\n",
    "print(\"Numeric Strings:\",strings)"
   ]
  },
  {
   "cell_type": "markdown",
   "id": "f054c0b8-220e-46a5-98d4-37be30fe6207",
   "metadata": {},
   "source": [
    "### Challenge Level:"
   ]
  },
  {
   "cell_type": "markdown",
   "id": "8ef3ae60-813e-4f68-b792-29749c3794c6",
   "metadata": {},
   "source": [
    "### Ques_31. Write a program to generate a list of prime numbers using the Sieve of Eratosthenes algorithm and list comprehension."
   ]
  },
  {
   "cell_type": "code",
   "execution_count": 11,
   "id": "38532ebb-ac7d-4348-b95d-b94cb556b145",
   "metadata": {},
   "outputs": [
    {
     "name": "stdin",
     "output_type": "stream",
     "text": [
      "enter the value 25\n"
     ]
    },
    {
     "name": "stdout",
     "output_type": "stream",
     "text": [
      "2 3 5 7 11 13 17 19 23 \n",
      "[0, 0, 2, 3, 0, 5, 0, 7, 0, 0, 0, 11, 0, 13, 0, 0, 0, 17, 0, 19, 0, 0, 0, 23, 0, 0]\n"
     ]
    }
   ],
   "source": [
    "n = int(input(\"enter the value\"))\n",
    "prime = []\n",
    "for i in range(n+1):\n",
    "    prime.append(i)\n",
    "prime[0]=0\n",
    "prime[1]=0\n",
    "\n",
    "p = 2 \n",
    "while p * p <= n :\n",
    "    if p !=0 :\n",
    "        for i in range(p*2, n+1, p):\n",
    "            prime[i] = 0\n",
    "    p = p + 1\n",
    "\n",
    "for i  in range(len(prime)):\n",
    "    if prime[i] != 0 :\n",
    "        print(prime[i],end=\" \")\n",
    "print()\n",
    "print(prime)\n",
    "  "
   ]
  },
  {
   "cell_type": "markdown",
   "id": "0e3e1716-8c8b-4af7-b6d3-771c784469d4",
   "metadata": {
    "tags": []
   },
   "source": [
    "### Ques_32. Create a program that generates a list of all Pythagorean triplets up to a specified limit using list comprehension."
   ]
  },
  {
   "cell_type": "code",
   "execution_count": 24,
   "id": "90d06b0d-49e8-490a-ae18-0d3ac3ebbadb",
   "metadata": {},
   "outputs": [
    {
     "name": "stdout",
     "output_type": "stream",
     "text": [
      "3 + 4 = 5\n",
      "4 + 3 = 5\n",
      "5 + 12 = 13\n",
      "6 + 8 = 10\n",
      "8 + 6 = 10\n",
      "8 + 15 = 17\n",
      "9 + 12 = 15\n",
      "12 + 5 = 13\n",
      "12 + 9 = 15\n",
      "12 + 16 = 20\n",
      "15 + 8 = 17\n",
      "16 + 12 = 20\n"
     ]
    }
   ],
   "source": [
    "num = range(1,21)\n",
    "for a in num:\n",
    "    for b in num:\n",
    "        for c in num:\n",
    "            if a*a + b*b == c*c :\n",
    "                print(a,\"+\",b,\"=\",c)"
   ]
  },
  {
   "cell_type": "markdown",
   "id": "f36a06e0-05b0-44e5-ad66-6875f2d71708",
   "metadata": {},
   "source": [
    "### Ques_33. Develop a program that generates a list of all possible combinations of two lists using list comprehension."
   ]
  },
  {
   "cell_type": "code",
   "execution_count": 25,
   "id": "0d2346e4-ee67-4ef5-bd1c-fd3b4c020cb6",
   "metadata": {},
   "outputs": [
    {
     "name": "stdout",
     "output_type": "stream",
     "text": [
      "All possible combinations of the two lists:\n",
      "(1, 'a')\n",
      "(1, 'b')\n",
      "(1, 'c')\n",
      "(2, 'a')\n",
      "(2, 'b')\n",
      "(2, 'c')\n",
      "(3, 'a')\n",
      "(3, 'b')\n",
      "(3, 'c')\n"
     ]
    }
   ],
   "source": [
    "x_lst = [1, 2, 3]\n",
    "y_lst = ['a', 'b', 'c']\n",
    "combinations = [(x, y) for x in x_lst for y in y_lst]\n",
    "print(\"All possible combinations of the two lists:\")\n",
    "for i in combinations:\n",
    "    print(i)"
   ]
  },
  {
   "cell_type": "markdown",
   "id": "516e82cd-7439-4932-b002-efe086ecf7a4",
   "metadata": {},
   "source": [
    "### Ques_34. Write a program that calculates the mean, median, and mode of a list of numbers using list comprehension."
   ]
  },
  {
   "cell_type": "code",
   "execution_count": 48,
   "id": "4726889b-131a-459d-98d6-adc983b4d69f",
   "metadata": {},
   "outputs": [
    {
     "name": "stdout",
     "output_type": "stream",
     "text": [
      "mean  4.0\n",
      "median 4\n",
      "mode [3]\n"
     ]
    }
   ],
   "source": [
    "lst = [2,3,4,3,1,3,4,5,6,7,8,7,6,5,4,3,3,3,1,2,4]\n",
    "mean = sum(lst) / len(lst)\n",
    "print(\"mean \",mean)\n",
    "\n",
    "sort = sorted(lst)\n",
    "num = len(sort)\n",
    "median = (sort[num//2] + sort[(num-1)//2]) / 2 if num % 2 == 0 else sort[n//2]\n",
    "print(\"median\",median)\n",
    "\n",
    "count = {n : lst.count(n) for n in set(lst)}\n",
    "mode = [k for k,v in count.items() if v == max(count.values())]\n",
    "print(\"mode\",mode)\n",
    "\n"
   ]
  },
  {
   "cell_type": "markdown",
   "id": "5a00eb48-b958-4cc1-bbf0-b01422eafc5f",
   "metadata": {},
   "source": [
    "### Ques_35. Create a program that generates Pascals triangle up to a specified number of rows using list comprehension."
   ]
  },
  {
   "cell_type": "code",
   "execution_count": 4,
   "id": "a46324d8-6ac2-4298-a754-b93fb1b3c4f1",
   "metadata": {},
   "outputs": [
    {
     "name": "stdin",
     "output_type": "stream",
     "text": [
      "enter the pascals number 10\n"
     ]
    },
    {
     "name": "stdout",
     "output_type": "stream",
     "text": [
      "          1\n",
      "         1 1\n",
      "        1 2 1\n",
      "       1 3 3 1\n",
      "      1 4 6 4 1\n",
      "     1 6 1 0 5 1\n",
      "    1 7 7 1 5 6 1\n",
      "   1 9 4 8 7 1 7 1\n",
      "  2 1 4 3 5 8 8 8 1\n",
      " 2 3 5 7 9 4 7 6 9 1\n"
     ]
    }
   ],
   "source": [
    "n = int(input(\"enter the pascals number\"))\n",
    "for i in range(n):\n",
    "    print(' '*(n-i), end='')\n",
    "    print(' '.join(map(str, str(11**i))))"
   ]
  },
  {
   "cell_type": "markdown",
   "id": "f878278e-bc4d-463f-a365-2740d8cf624e",
   "metadata": {},
   "source": [
    "### Ques_36. Develop a program that calculates the sum of the digits of a factorial of numbers from 1 to 5 using list comprehension."
   ]
  },
  {
   "cell_type": "code",
   "execution_count": 10,
   "id": "ab4507ab-5424-4a53-8e39-bbecc0039f23",
   "metadata": {},
   "outputs": [
    {
     "name": "stdout",
     "output_type": "stream",
     "text": [
      "Factorial of 1: 1, Sum of its digits: 1\n",
      "Factorial of 2: 2, Sum of its digits: 2\n",
      "Factorial of 3: 6, Sum of its digits: 6\n",
      "Factorial of 4: 24, Sum of its digits: 6\n",
      "Factorial of 5: 120, Sum of its digits: 3\n"
     ]
    }
   ],
   "source": [
    "def factorial(n):\n",
    "    return 1 if n == 0 else n * factorial(n - 1)\n",
    "factorial_sums = [sum(int(digit) for digit in str(factorial(i))) for i in range(1, 6)]\n",
    "for i, digit_sum in enumerate(factorial_sums, start=1):\n",
    "    print(f\"Factorial of {i}: {factorial(i)}, Sum of its digits: {digit_sum}\")\n"
   ]
  },
  {
   "cell_type": "markdown",
   "id": "446013c6-6bab-4f77-a957-b392c0dba784",
   "metadata": {},
   "source": [
    "### Ques_37. Write a program that finds the longest word in a sentence using list comprehension."
   ]
  },
  {
   "cell_type": "code",
   "execution_count": 23,
   "id": "e19cb9fe-b640-43af-8c9f-617ebff1be4b",
   "metadata": {},
   "outputs": [
    {
     "name": "stdin",
     "output_type": "stream",
     "text": [
      "Enter a sentence:  the python language is very hard\n"
     ]
    },
    {
     "name": "stdout",
     "output_type": "stream",
     "text": [
      "lomgest word in sentence :- language\n"
     ]
    }
   ],
   "source": [
    "string = input(\"Enter a sentence: \")\n",
    "split_word = string.split()\n",
    "longest_word = max(split_word, key=len)\n",
    "print(\"lomgest word in sentence :-\",longest_word)\n"
   ]
  },
  {
   "cell_type": "markdown",
   "id": "146c9827-f031-4083-817e-68523e334b02",
   "metadata": {},
   "source": [
    "### Ques_38. Create a program that filters a list of strings to include only those with more than three vowels using list comprehension."
   ]
  },
  {
   "cell_type": "code",
   "execution_count": 24,
   "id": "e578d6f3-cd7e-45a2-a6bb-b8c13c61af96",
   "metadata": {},
   "outputs": [
    {
     "name": "stdout",
     "output_type": "stream",
     "text": [
      "['language', 'data science', 'web devlopment']\n"
     ]
    }
   ],
   "source": [
    "lst = ['string','python','language','data science','web devlopment']\n",
    "fil_str = [i for i in lst if sum(1 for x in i if x.lower() in 'aeiou') > 3]\n",
    "print(fil_str)"
   ]
  },
  {
   "cell_type": "markdown",
   "id": "0982624d-c994-48ea-943e-9cbae119639b",
   "metadata": {},
   "source": [
    "### Ques_39. Develop a program that calculates the sum of the digits of numbers from 1 to 1000 using list comprehension."
   ]
  },
  {
   "cell_type": "code",
   "execution_count": 26,
   "id": "42cea5b1-48d9-4464-82f2-5b3b1a3bde7d",
   "metadata": {},
   "outputs": [
    {
     "name": "stdout",
     "output_type": "stream",
     "text": [
      "13501\n"
     ]
    }
   ],
   "source": [
    "sum_digit = sum(sum(int(i) for i in str(num)) for num in range(1,1000+1))\n",
    "print(sum_digit)"
   ]
  },
  {
   "cell_type": "markdown",
   "id": "6442315c-4fe3-4640-b400-7610a090d6bc",
   "metadata": {},
   "source": [
    "### Ques_40. Write a program that generates a list of prime palindromic numbers using list comprehension."
   ]
  },
  {
   "cell_type": "code",
   "execution_count": 29,
   "id": "a0debf2b-fa95-4f1e-9e62-b73a89a69118",
   "metadata": {},
   "outputs": [
    {
     "name": "stdout",
     "output_type": "stream",
     "text": [
      "Prime palindromic numbers: [2, 3, 5, 7, 11, 101, 131, 151, 181, 191, 313, 353, 373, 383, 727, 757, 787, 797, 919, 929]\n"
     ]
    }
   ],
   "source": [
    "is_prime = lambda n: n > 1 and all(n % i != 0 for i in range(2, int(n ** 0.5) + 1))\n",
    "prime_palindromes = [num for num in range(2, 1000) if is_prime(num) and str(num) == str(num)[::-1]]\n",
    "print(\"Prime palindromic numbers:\", prime_palindromes)"
   ]
  },
  {
   "cell_type": "code",
   "execution_count": null,
   "id": "0ca70759-33de-4ed9-b4bc-686dedbffb82",
   "metadata": {},
   "outputs": [],
   "source": []
  }
 ],
 "metadata": {
  "kernelspec": {
   "display_name": "Python 3 (ipykernel)",
   "language": "python",
   "name": "python3"
  },
  "language_info": {
   "codemirror_mode": {
    "name": "ipython",
    "version": 3
   },
   "file_extension": ".py",
   "mimetype": "text/x-python",
   "name": "python",
   "nbconvert_exporter": "python",
   "pygments_lexer": "ipython3",
   "version": "3.10.8"
  }
 },
 "nbformat": 4,
 "nbformat_minor": 5
}
